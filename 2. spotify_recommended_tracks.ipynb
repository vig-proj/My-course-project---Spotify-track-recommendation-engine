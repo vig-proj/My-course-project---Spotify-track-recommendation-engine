{
 "cells": [
  {
   "cell_type": "markdown",
   "id": "d54713f2",
   "metadata": {},
   "source": [
    "# Retrieve track recommendations from Spotify\n",
    "\n",
    "For each genre in our list, we retrieve 3 track recommendations from Spotify via Web API requests, along with track features provided by Spotify. We then clean the data, create a table in an existing database and copy the data to the table. The recommendation engine can then query this table for tracks to suggest to the user according to genre.\n",
    "\n",
    "First we import the necessary libraries."
   ]
  },
  {
   "cell_type": "code",
   "execution_count": 1,
   "id": "5f288abe",
   "metadata": {},
   "outputs": [],
   "source": [
    "# Spotipy is a library for the Spotify Web API\n",
    "import spotipy \n",
    "from spotipy.oauth2 import SpotifyClientCredentials\n",
    "\n",
    "# Pandas to create dataframe and clean/transform data\n",
    "import pandas as pd\n",
    "\n",
    "# psycopg2 to interact with postgrsql db\n",
    "import psycopg2"
   ]
  },
  {
   "cell_type": "markdown",
   "id": "115dcbc3",
   "metadata": {},
   "source": [
    "Request authorization from Spotify. Prior to that, an 'app' is created at the Spotify developer's site to obtain the Client ID and Client secret. This allows us to request for an access token via the Spotify API."
   ]
  },
  {
   "cell_type": "code",
   "execution_count": 2,
   "id": "11139ebb",
   "metadata": {},
   "outputs": [],
   "source": [
    "# Set your Spotify API credentials\n",
    "client_id = '6c2ff081fe494968a2e3a618c678fd62'\n",
    "client_secret = '99da4179a82f4f999058535d8d9b47dc'"
   ]
  },
  {
   "cell_type": "code",
   "execution_count": 3,
   "id": "88c4735f",
   "metadata": {},
   "outputs": [],
   "source": [
    "# Initialize the Spotipy client, \n",
    "sp = spotipy.Spotify(client_credentials_manager=SpotifyClientCredentials(client_id, client_secret))"
   ]
  },
  {
   "cell_type": "code",
   "execution_count": 4,
   "id": "860f5853",
   "metadata": {},
   "outputs": [],
   "source": [
    "# Define seed genres\n",
    "seed_genres = ['anime', 'ambient', 'classical', 'country', 'chill', 'edm', 'folk', 'gospel', 'hip-hop', 'jazz', 'k-pop', 'latin', 'metal', 'pop', 'r-n-b', 'rock', 'video-game-music', 'rap', 'lofi']"
   ]
  },
  {
   "cell_type": "markdown",
   "id": "2cdfbdf1",
   "metadata": {},
   "source": [
    "We now make a call to Spotify to get 3 track recommendations for each genre in our list defined above. We then request for track features (such as 'energy' and 'loudness') for each track that is recommended. We need to loop through the process for each genre. The data is returned in JSON and we extract the values that we need. "
   ]
  },
  {
   "cell_type": "code",
   "execution_count": 5,
   "id": "05e05a8e",
   "metadata": {},
   "outputs": [],
   "source": [
    "# Initialize an empty list to store track data\n",
    "all_track_data = []"
   ]
  },
  {
   "cell_type": "code",
   "execution_count": 6,
   "id": "6050545c",
   "metadata": {},
   "outputs": [],
   "source": [
    "# Call Spotify API to retrieve track data\n",
    "for seed_genre in seed_genres:\n",
    "    recommended_tracks = sp.recommendations(seed_genres=[seed_genre], limit=3, country=\"SG\")\n",
    "    for track in recommended_tracks[\"tracks\"]:\n",
    "        track_data = {\n",
    "            \"track_name\": track[\"name\"],\n",
    "            \"artist\": \", \".join(artist[\"name\"] for artist in track[\"artists\"]),\n",
    "            \"album\": track[\"album\"][\"name\"],\n",
    "            \"genre\": seed_genre,\n",
    "            \"image\": track[\"album\"][\"images\"][0][\"url\"],\n",
    "            \"preview_url\": track[\"preview_url\"],\n",
    "            \"url\": track['album']['external_urls']['spotify']\n",
    "        }\n",
    "        all_track_data.append(track_data)\n",
    "        \n",
    "        # Search for individual track by ID to get \"popularity\".\n",
    "        track_search = sp.track(track['id'])\n",
    "        track_data[\"popularity\"] = track_search[\"popularity\"]\n",
    "\n",
    "        # Search for audio features of track by ID\n",
    "        audio_features = sp.audio_features(track['id'])[0]\n",
    "        for key, value in audio_features.items():\n",
    "            track_data[key] = value"
   ]
  },
  {
   "cell_type": "markdown",
   "id": "4cefa6ec",
   "metadata": {},
   "source": [
    "Once we have the data in a list, we create a dataframe to inspect the data and perform necessary cleaning and transformation"
   ]
  },
  {
   "cell_type": "code",
   "execution_count": 7,
   "id": "df4bf6ac",
   "metadata": {},
   "outputs": [],
   "source": [
    "# Create a DataFrame from the track data\n",
    "df = pd.DataFrame(all_track_data)"
   ]
  },
  {
   "cell_type": "code",
   "execution_count": 8,
   "id": "aa1484d6",
   "metadata": {
    "scrolled": false
   },
   "outputs": [
    {
     "name": "stdout",
     "output_type": "stream",
     "text": [
      "  track_name       artist           album  genre  \\\n",
      "0       微熱の月  Luna Haruna         OVERSKY  anime   \n",
      "1    Baby...        i☆Ris         Goin'on  anime   \n",
      "2    prelude     Kalafina  THE BEST “Red”  anime   \n",
      "\n",
      "                                                              image  \\\n",
      "0  https://i.scdn.co/image/ab67616d0000b273daecf6c1f858ffa935db3795   \n",
      "1  https://i.scdn.co/image/ab67616d0000b273220355567de8715789c6c28c   \n",
      "2  https://i.scdn.co/image/ab67616d0000b27378691a6b25ea64eb28b5302d   \n",
      "\n",
      "                                                                                                   preview_url  \\\n",
      "0  https://p.scdn.co/mp3-preview/d93431e10f9ba7ed37a2987209d8e22edbb5d1a9?cid=6c2ff081fe494968a2e3a618c678fd62   \n",
      "1  https://p.scdn.co/mp3-preview/af0409ec9ed6f6eab789c117a0c847e8046e2e8c?cid=6c2ff081fe494968a2e3a618c678fd62   \n",
      "2  https://p.scdn.co/mp3-preview/665c0518c0db2df2dc004a380bdb55c2f88d9521?cid=6c2ff081fe494968a2e3a618c678fd62   \n",
      "\n",
      "                                                     url  popularity  \\\n",
      "0  https://open.spotify.com/album/5uw8YVzISyCjUPOqs2Dp4T          12   \n",
      "1  https://open.spotify.com/album/5XzVuozdpCXrhiJNlPrFJl          12   \n",
      "2  https://open.spotify.com/album/2zkEQSMAmh0jDYxLPMQ5bi          17   \n",
      "\n",
      "   danceability  energy  ...  liveness  valence    tempo            type  \\\n",
      "0         0.532   0.938  ...     0.349   0.8720  145.009  audio_features   \n",
      "1         0.672   0.902  ...     0.340   0.6830  130.035  audio_features   \n",
      "2         0.192   0.170  ...     0.102   0.0374   59.801  audio_features   \n",
      "\n",
      "                       id                                   uri  \\\n",
      "0  1rfcIM7xlZMNN2at8Rb4l1  spotify:track:1rfcIM7xlZMNN2at8Rb4l1   \n",
      "1  2AhigPDmN0Cb3DPMy7SDn1  spotify:track:2AhigPDmN0Cb3DPMy7SDn1   \n",
      "2  4AR6xCADdKuWPqhxBLM5cb  spotify:track:4AR6xCADdKuWPqhxBLM5cb   \n",
      "\n",
      "                                                 track_href  \\\n",
      "0  https://api.spotify.com/v1/tracks/1rfcIM7xlZMNN2at8Rb4l1   \n",
      "1  https://api.spotify.com/v1/tracks/2AhigPDmN0Cb3DPMy7SDn1   \n",
      "2  https://api.spotify.com/v1/tracks/4AR6xCADdKuWPqhxBLM5cb   \n",
      "\n",
      "                                                       analysis_url  \\\n",
      "0  https://api.spotify.com/v1/audio-analysis/1rfcIM7xlZMNN2at8Rb4l1   \n",
      "1  https://api.spotify.com/v1/audio-analysis/2AhigPDmN0Cb3DPMy7SDn1   \n",
      "2  https://api.spotify.com/v1/audio-analysis/4AR6xCADdKuWPqhxBLM5cb   \n",
      "\n",
      "   duration_ms time_signature  \n",
      "0       235267              4  \n",
      "1       254667              4  \n",
      "2        95973              4  \n",
      "\n",
      "[3 rows x 26 columns]\n"
     ]
    }
   ],
   "source": [
    "# Ensure print dataframe with full column width for url display\n",
    "pd.set_option('display.max_colwidth', None)  \n",
    "\n",
    "print(df.head(3))"
   ]
  },
  {
   "cell_type": "code",
   "execution_count": 9,
   "id": "fbfa6df2",
   "metadata": {},
   "outputs": [
    {
     "name": "stdout",
     "output_type": "stream",
     "text": [
      "<class 'pandas.core.frame.DataFrame'>\n",
      "RangeIndex: 48 entries, 0 to 47\n",
      "Data columns (total 26 columns):\n",
      " #   Column            Non-Null Count  Dtype  \n",
      "---  ------            --------------  -----  \n",
      " 0   id                48 non-null     object \n",
      " 1   track_name        48 non-null     object \n",
      " 2   artist            48 non-null     object \n",
      " 3   album             48 non-null     object \n",
      " 4   genre             48 non-null     object \n",
      " 5   image             48 non-null     object \n",
      " 6   preview_url       39 non-null     object \n",
      " 7   url               48 non-null     object \n",
      " 8   popularity        48 non-null     int64  \n",
      " 9   danceability      48 non-null     float64\n",
      " 10  energy            48 non-null     float64\n",
      " 11  key               48 non-null     int64  \n",
      " 12  loudness          48 non-null     float64\n",
      " 13  mode              48 non-null     int64  \n",
      " 14  speechiness       48 non-null     float64\n",
      " 15  acousticness      48 non-null     float64\n",
      " 16  instrumentalness  48 non-null     float64\n",
      " 17  liveness          48 non-null     float64\n",
      " 18  valence           48 non-null     float64\n",
      " 19  tempo             48 non-null     float64\n",
      " 20  type              48 non-null     object \n",
      " 21  uri               48 non-null     object \n",
      " 22  track_href        48 non-null     object \n",
      " 23  analysis_url      48 non-null     object \n",
      " 24  duration_ms       48 non-null     int64  \n",
      " 25  time_signature    48 non-null     int64  \n",
      "dtypes: float64(9), int64(5), object(12)\n",
      "memory usage: 9.9+ KB\n",
      "None\n"
     ]
    }
   ],
   "source": [
    "# Pop 'id' column, and insert into the front, to designate as primary key in table\n",
    "cols = list(df)\n",
    "cols.insert(0, cols.pop(cols.index('id')))  \n",
    "df = df[cols]\n",
    "\n",
    "# Check after done\n",
    "print(df.info())"
   ]
  },
  {
   "cell_type": "code",
   "execution_count": 10,
   "id": "242175af",
   "metadata": {},
   "outputs": [
    {
     "name": "stdout",
     "output_type": "stream",
     "text": [
      "['anime' 'ambient' 'classical' 'country' 'chill' 'edm' 'folk' 'gospel'\n",
      " 'hip-hop' 'jazz' 'k-pop' 'latin' 'metal' 'pop' 'r-n-b' 'rock']\n"
     ]
    }
   ],
   "source": [
    "print(df['genre'].unique())"
   ]
  },
  {
   "cell_type": "code",
   "execution_count": 11,
   "id": "efbf38e8",
   "metadata": {},
   "outputs": [
    {
     "name": "stdout",
     "output_type": "stream",
     "text": [
      "Empty DataFrame\n",
      "Columns: [id, track_name, artist, album, genre, image, preview_url, url, popularity, danceability, energy, key, loudness, mode, speechiness, acousticness, instrumentalness, liveness, valence, tempo, type, uri, track_href, analysis_url, duration_ms, time_signature]\n",
      "Index: []\n",
      "\n",
      "[0 rows x 26 columns]\n"
     ]
    }
   ],
   "source": [
    "# Check for duplicates\n",
    "print(df[df.duplicated()])"
   ]
  },
  {
   "cell_type": "code",
   "execution_count": 12,
   "id": "59b166d5",
   "metadata": {},
   "outputs": [
    {
     "name": "stdout",
     "output_type": "stream",
     "text": [
      "                       id track_name       artist    album  genre  \\\n",
      "0  1rfcIM7xlZMNN2at8Rb4l1       微熱の月  Luna Haruna  OVERSKY  anime   \n",
      "1  2AhigPDmN0Cb3DPMy7SDn1    Baby...        i☆Ris  Goin'on  anime   \n",
      "\n",
      "                                                              image  \\\n",
      "0  https://i.scdn.co/image/ab67616d0000b273daecf6c1f858ffa935db3795   \n",
      "1  https://i.scdn.co/image/ab67616d0000b273220355567de8715789c6c28c   \n",
      "\n",
      "                                                                                                   preview_url  \\\n",
      "0  https://p.scdn.co/mp3-preview/d93431e10f9ba7ed37a2987209d8e22edbb5d1a9?cid=6c2ff081fe494968a2e3a618c678fd62   \n",
      "1  https://p.scdn.co/mp3-preview/af0409ec9ed6f6eab789c117a0c847e8046e2e8c?cid=6c2ff081fe494968a2e3a618c678fd62   \n",
      "\n",
      "                                                     url  popularity  \\\n",
      "0  https://open.spotify.com/album/5uw8YVzISyCjUPOqs2Dp4T          12   \n",
      "1  https://open.spotify.com/album/5XzVuozdpCXrhiJNlPrFJl          12   \n",
      "\n",
      "   danceability  ...  loudness  mode  speechiness  acousticness  \\\n",
      "0         0.532  ...    -4.020     0       0.0435       0.11400   \n",
      "1         0.672  ...    -3.325     1       0.0481       0.00796   \n",
      "\n",
      "   instrumentalness  liveness  valence    tempo  duration_ms  time_signature  \n",
      "0          0.000000     0.349    0.872  145.009       235267               4  \n",
      "1          0.000159     0.340    0.683  130.035       254667               4  \n",
      "\n",
      "[2 rows x 22 columns]\n"
     ]
    }
   ],
   "source": [
    "# Drop 'type', 'uri', 'track_href', 'analysis_url' columns\n",
    "df.drop(columns=['type', 'uri', 'track_href', 'analysis_url'], inplace=True)\n",
    "print(df.head(2))"
   ]
  },
  {
   "cell_type": "markdown",
   "id": "ae74a620",
   "metadata": {},
   "source": [
    "Once satisfied with the data, we connect to the databse, create a table and insert data into the table"
   ]
  },
  {
   "cell_type": "code",
   "execution_count": 13,
   "id": "e9819d3c",
   "metadata": {},
   "outputs": [],
   "source": [
    "# Connect to PostgreSQL database\n",
    "db_params = {\n",
    "    \"host\": \"rain.db.elephantsql.com\",\n",
    "    \"dbname\": \"auspovuc\",  \n",
    "    \"user\": \"auspovuc\",  \n",
    "    \"password\": \"bmJdG19Daw9rkEsJ3VnkefRGCBF_oy7F\"\n",
    "}\n",
    "\n",
    "conn = psycopg2.connect(**db_params)\n",
    "cur = conn.cursor()"
   ]
  },
  {
   "cell_type": "code",
   "execution_count": 14,
   "id": "d197466c",
   "metadata": {},
   "outputs": [],
   "source": [
    "# Create a table recommended_tracks\n",
    "cur.execute(\"\"\"\n",
    "    CREATE TABLE IF NOT EXISTS recommended_tracks (\n",
    "        id VARCHAR PRIMARY KEY,\n",
    "        track_name VARCHAR,\n",
    "        artist VARCHAR,\n",
    "        album VARCHAR,\n",
    "        genre VARCHAR,\n",
    "        image VARCHAR,\n",
    "        preview_url VARCHAR,\n",
    "        url VARCHAR,\n",
    "        popularity SMALLINT,\n",
    "        danceability FLOAT,\n",
    "        energy FLOAT,\n",
    "        key SMALLINT,\n",
    "        loudness FLOAT,\n",
    "        mode SMALLINT,\n",
    "        speechiness FLOAT,\n",
    "        acousticness FLOAT,\n",
    "        liveness FLOAT, \n",
    "        valence FLOAT,\n",
    "        tempo FLOAT,\n",
    "        duration_ms INT,\n",
    "        time_signature SMALLINT\n",
    "    )\n",
    "\"\"\")\n",
    "conn.commit()"
   ]
  },
  {
   "cell_type": "code",
   "execution_count": 15,
   "id": "8dfcef29",
   "metadata": {},
   "outputs": [],
   "source": [
    "# # Insert data into the table\n",
    "for _, row in df.iterrows():\n",
    "    cur.execute(\"\"\"\n",
    "        INSERT INTO recommended_tracks (id, track_name, artist, album, genre, image, preview_url, url, popularity, danceability, energy, key, loudness, mode, speechiness, acousticness, liveness, valence, tempo, duration_ms, time_signature)\n",
    "        VALUES (%s, %s, %s, %s, %s, %s, %s, %s, %s, %s, %s, %s, %s, %s, %s, %s, %s, %s, %s, %s, %s)\n",
    "    \"\"\", (row[\"id\"], row[\"track_name\"], row[\"artist\"], row[\"album\"], row[\"genre\"], row[\"image\"], row[\"preview_url\"], row[\"url\"], row[\"popularity\"], row[\"danceability\"], row[\"energy\"], row[\"key\"], row[\"loudness\"], row[\"mode\"], row[\"speechiness\"], row[\"acousticness\"], row[\"liveness\"], row[\"valence\"], row[\"tempo\"], row[\"duration_ms\"], row[\"time_signature\"]))\n",
    "\n",
    "conn.commit()"
   ]
  },
  {
   "cell_type": "code",
   "execution_count": 16,
   "id": "c6ff5433",
   "metadata": {},
   "outputs": [],
   "source": [
    "# Close connection\n",
    "conn.close()"
   ]
  },
  {
   "cell_type": "code",
   "execution_count": null,
   "id": "31a18b9b",
   "metadata": {},
   "outputs": [],
   "source": []
  }
 ],
 "metadata": {
  "kernelspec": {
   "display_name": "Python 3 (ipykernel)",
   "language": "python",
   "name": "python3"
  },
  "language_info": {
   "codemirror_mode": {
    "name": "ipython",
    "version": 3
   },
   "file_extension": ".py",
   "mimetype": "text/x-python",
   "name": "python",
   "nbconvert_exporter": "python",
   "pygments_lexer": "ipython3",
   "version": "3.11.5"
  }
 },
 "nbformat": 4,
 "nbformat_minor": 5
}
